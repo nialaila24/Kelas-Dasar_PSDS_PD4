{
  "nbformat": 4,
  "nbformat_minor": 0,
  "metadata": {
    "colab": {
      "provenance": [],
      "authorship_tag": "ABX9TyOpnUi+QoK3a20wevKuNGV0",
      "include_colab_link": true
    },
    "kernelspec": {
      "name": "python3",
      "display_name": "Python 3"
    },
    "language_info": {
      "name": "python"
    }
  },
  "cells": [
    {
      "cell_type": "markdown",
      "metadata": {
        "id": "view-in-github",
        "colab_type": "text"
      },
      "source": [
        "<a href=\"https://colab.research.google.com/github/nialaila24/Kelas-Dasar_PSDS_PD4/blob/main/PSDS_Pertemuan__2__Variabel_dan_tipe_data.ipynb\" target=\"_parent\"><img src=\"https://colab.research.google.com/assets/colab-badge.svg\" alt=\"Open In Colab\"/></a>"
      ]
    },
    {
      "cell_type": "markdown",
      "source": [
        "NAMA : Nia Andriani Laila\n",
        "\n",
        "NIM : 2000015002\n",
        "\n",
        "KELAS DASAR"
      ],
      "metadata": {
        "id": "4RGBadL0pAvM"
      }
    },
    {
      "cell_type": "markdown",
      "source": [
        "#Variabel & Tipe Data"
      ],
      "metadata": {
        "id": "qHGvMKO4pCB-"
      }
    },
    {
      "cell_type": "markdown",
      "source": [
        "##Variabel"
      ],
      "metadata": {
        "id": "auFLmHqepR20"
      }
    },
    {
      "cell_type": "markdown",
      "source": [
        "Variables: Lokal penyimpanan yang dapat digunakan untuk menampung sebuah data atau informasi. Syarat syarat penamaan variabel\n",
        "\n",
        "1. Karakter karakter yang digunakan untuk penamaan variable adalah alphabet, angka dan underscore.\n",
        "2. Karakter pertama variabel harus berupa huruf atau garis bawah/underscore, dan tidak bisa berupa angka\n",
        "3. Nama sebuah variabel tidak bisa menggunakan keyword atau reserved words dari bahasa python seperti for, if dan lainnya\n",
        "4. Karakter pada nama variabel bersifat sensitif (case-sensitif)"
      ],
      "metadata": {
        "id": "WwDacJHYpZco"
      }
    },
    {
      "cell_type": "code",
      "source": [
        "# membuat variabel \n",
        "kalimat ='ini adalah variabel'\n",
        "bilangan1 = 4\n",
        "bilangan2 = 2.5\n",
        "bilangan3 = True\n",
        "bilangan4 = 1j + 4"
      ],
      "metadata": {
        "id": "bOLrDeY6pYxY"
      },
      "execution_count": null,
      "outputs": []
    },
    {
      "cell_type": "code",
      "execution_count": null,
      "metadata": {
        "colab": {
          "base_uri": "https://localhost:8080/"
        },
        "id": "cpw-jF_Ho7eS",
        "outputId": "24c9f203-9284-40ae-e1d9-84afcf565aab"
      },
      "outputs": [
        {
          "output_type": "stream",
          "name": "stdout",
          "text": [
            "ini adalah variabel\n",
            "4\n",
            "2.5\n",
            "True\n",
            "(4+1j)\n"
          ]
        }
      ],
      "source": [
        "# menampilkan variabel \n",
        "print(kalimat)\n",
        "print(bilangan1)\n",
        "print(bilangan2)\n",
        "print(bilangan3)\n",
        "print(bilangan4)"
      ]
    },
    {
      "cell_type": "markdown",
      "source": [
        "##Tipe Data"
      ],
      "metadata": {
        "id": "JtvEJzwRqVED"
      }
    },
    {
      "cell_type": "markdown",
      "source": [
        "5 tipe data yaitu\n",
        "\n",
        "1. Integer atau bilangan bulat\n",
        "2. Float atau bilangan desimal\n",
        "3. string atau kalimat\n",
        "4. Boolean yang terdiri dari True dan False\n",
        "5. Complex yang merupakan bilangan kompleks"
      ],
      "metadata": {
        "id": "h1vQmNd5qX5I"
      }
    },
    {
      "cell_type": "code",
      "source": [
        "# menampilkan tipe data\n",
        "print(type(kalimat))\n",
        "print(type(bilangan1))\n",
        "print(type(bilangan2))\n",
        "print(type(bilangan3))\n",
        "print(type(bilangan4))"
      ],
      "metadata": {
        "colab": {
          "base_uri": "https://localhost:8080/"
        },
        "id": "C2zJQU9pqscl",
        "outputId": "b2dc6007-27a1-48b6-f601-e66c1679d07b"
      },
      "execution_count": null,
      "outputs": [
        {
          "output_type": "stream",
          "name": "stdout",
          "text": [
            "<class 'str'>\n",
            "<class 'int'>\n",
            "<class 'float'>\n",
            "<class 'bool'>\n",
            "<class 'complex'>\n"
          ]
        }
      ]
    },
    {
      "cell_type": "markdown",
      "source": [
        "###Latihan 1\n"
      ],
      "metadata": {
        "id": "k3UZmWUDskXy"
      }
    },
    {
      "cell_type": "code",
      "source": [
        "#Buatlah 5 variabel kalian sendiri dengan 5 macam tipe data\n",
        "#Lalu tampilkan variable menggunakan fungsi print\n",
        "a = \"Mahasiswa\"\n",
        "b = 1\n",
        "c = 3.2\n",
        "d = True\n",
        "e = 2+1j\n",
        "\n",
        "print('='*8)\n",
        "print(a)\n",
        "print(b)\n",
        "print(c)\n",
        "print(d)\n",
        "print(e)\n"
      ],
      "metadata": {
        "colab": {
          "base_uri": "https://localhost:8080/"
        },
        "id": "ovMk4OD_sn1I",
        "outputId": "b33bbc6e-781e-4abb-d958-9771d63b7f86"
      },
      "execution_count": null,
      "outputs": [
        {
          "output_type": "stream",
          "name": "stdout",
          "text": [
            "========\n",
            "Mahasiswa\n",
            "1\n",
            "3.2\n",
            "True\n",
            "(2+1j)\n"
          ]
        }
      ]
    },
    {
      "cell_type": "markdown",
      "source": [
        "###Konversi Tipe Data"
      ],
      "metadata": {
        "id": "LLTBBIK29T0h"
      }
    },
    {
      "cell_type": "markdown",
      "source": [
        "syntax konversi tipe data\n",
        "1.   Integer = int()\n",
        "2.   Float = float()\n",
        "3. String = str()\n",
        "4. Boolean = bool()\n",
        "5. Complex = Complex() \n"
      ],
      "metadata": {
        "id": "pvKo2LQE9Xsr"
      }
    },
    {
      "cell_type": "code",
      "source": [
        "# konversi tipe data integer\n",
        "print(int(bilangan2))\n",
        "print(int(bilangan3))"
      ],
      "metadata": {
        "id": "4yHJP5p69dJm"
      },
      "execution_count": null,
      "outputs": []
    },
    {
      "cell_type": "code",
      "source": [
        "# konversi tipe data float\n",
        "print(float(bilangan1))\n",
        "print(float(bilangan3))"
      ],
      "metadata": {
        "id": "aPX77hE-9w9j"
      },
      "execution_count": null,
      "outputs": []
    },
    {
      "cell_type": "code",
      "source": [
        "# konversi tipe data string \n",
        "print(str(bilangan1))\n",
        "print(str(bilangan2))\n",
        "print(str(bilangan3))"
      ],
      "metadata": {
        "id": "xMjO7QXf91d-"
      },
      "execution_count": null,
      "outputs": []
    },
    {
      "cell_type": "code",
      "source": [
        "# konversi tipe data bool\n",
        "print(bool(bilangan1))\n",
        "print(bool(bilangan2))"
      ],
      "metadata": {
        "id": "EZrOp6QQ93h9"
      },
      "execution_count": null,
      "outputs": []
    },
    {
      "cell_type": "code",
      "source": [
        "# konversi tipe data complex\n",
        "print(complex(bilangan1))\n",
        "print(complex(bilangan2))\n",
        "print(complex(bilangan3))"
      ],
      "metadata": {
        "id": "orUFwC9w96oy"
      },
      "execution_count": null,
      "outputs": []
    },
    {
      "cell_type": "markdown",
      "source": [
        "###Latihan 2"
      ],
      "metadata": {
        "id": "I423WAxz999x"
      }
    },
    {
      "cell_type": "code",
      "source": [
        "# konversi tipe data integer\n",
        "print(int(variabel1))\n",
        "print(int(variabel2))\n",
        "print(int(variabel3))"
      ],
      "metadata": {
        "id": "2J__2mUy-T2v"
      },
      "execution_count": null,
      "outputs": []
    }
  ]
}