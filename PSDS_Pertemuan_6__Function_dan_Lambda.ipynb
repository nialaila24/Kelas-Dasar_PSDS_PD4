{
  "cells": [
    {
      "cell_type": "markdown",
      "metadata": {
        "id": "view-in-github",
        "colab_type": "text"
      },
      "source": [
        "<a href=\"https://colab.research.google.com/github/nialaila24/Kelas-Dasar_PSDS_PD4/blob/main/PSDS_Pertemuan_6__Function_dan_Lambda.ipynb\" target=\"_parent\"><img src=\"https://colab.research.google.com/assets/colab-badge.svg\" alt=\"Open In Colab\"/></a>"
      ]
    },
    {
      "cell_type": "markdown",
      "source": [
        "NAMA : Nia Andriani Laila\n",
        "\n",
        "NIM : 2000015002\n",
        "\n",
        "KELAS DASAR"
      ],
      "metadata": {
        "id": "zFGia_z7M6cE"
      }
    },
    {
      "cell_type": "markdown",
      "metadata": {
        "id": "l3ywFcrmnBS2"
      },
      "source": [
        "#Function"
      ]
    },
    {
      "cell_type": "markdown",
      "metadata": {
        "id": "EW-yX59znFVn"
      },
      "source": [
        "Function(Fungsi) adalah sebuah blok statement yang hanya  akan dijalankan saat ia dipanggil.\n",
        "\n",
        "Fungsi len() untuk mengukur jumlah elemen dalalm sebuah list dan fungsi print() untuk menampikan pesan pada layar konsol merupakan contoh dari bentuk fungsi yang telah disediakan oleh bahasa pemrograman Pythonatau dengan kata lain built-in functions. \n",
        "\n",
        "Selain fungsi yang telah disediakan oleh Python, Phyton mengizinkan untuk mendeklarasikan fungsi dalam kode yang dituliskan yang dikenal dengan user defined function\n",
        "\n",
        "```\n",
        "def nama_fungsi(argument):\n",
        "    statement_1\n",
        "    _\n",
        "    statement_n\n",
        "    return returned_value\n",
        "```\n",
        "\n",
        "* **nama_fungsi** adalah nama untuk fungsi yang anda definisikan, memiliki aturan seperti penamaan variabel.\n",
        "* **argument** adalah variabel yang dimasukan ke fungsi, bisa tanpa variabel, satu variabel atau lebih\n",
        "* **Statement_1** ... statement_n adalah algoritma yang telah anda transfer dalam bahasa Python yang merupakan inti dari fungsi yang anda definisikan. Seluruh statement adalah menjorok (indent) ke dalam seperti yang pernah anda pelajari pada conditioning dan looping.\n",
        "* **return_value** adalah variabel output dari fungsi Anda. bisa tanpa variabel, satu Variabel atau lebih."
      ]
    },
    {
      "cell_type": "markdown",
      "metadata": {
        "id": "zmyfUlZ2nWhJ"
      },
      "source": [
        "## Argumen dan Parameter\n"
      ]
    },
    {
      "cell_type": "markdown",
      "source": [
        "* **Parameter** adalah variabel yang digunakan dalam deklarasi fungsi.\n",
        "* **Argumen** adalah nilai yang diberikan saat pemanggilan fungsi"
      ],
      "metadata": {
        "id": "FvkSuwqxPVrt"
      }
    },
    {
      "cell_type": "code",
      "execution_count": null,
      "metadata": {
        "colab": {
          "base_uri": "https://localhost:8080/"
        },
        "id": "KSx9eAbAm-YT",
        "outputId": "206cea4a-bda4-4526-cf73-900f652039ac"
      },
      "outputs": [
        {
          "name": "stdout",
          "output_type": "stream",
          "text": [
            "budi\n"
          ]
        }
      ],
      "source": [
        "def data_nama(nama): #'nama' adalah parameter karena terletak didalam fungsi\n",
        "  print(nama)\n",
        "\n",
        "data_nama('budi') # 'Budi' adalah argumen\n"
      ]
    },
    {
      "cell_type": "markdown",
      "metadata": {
        "id": "PIbk1_CSo7L_"
      },
      "source": [
        "##Argumen Posisi dan Kata Kunci"
      ]
    },
    {
      "cell_type": "markdown",
      "metadata": {
        "id": "Q4dzvS24pFa8"
      },
      "source": [
        "Kita bisa menyatakan argumen sebagai argumen posisi atau kata kunci. Beberapa manfaat argument kata kunci dapat berupa:\n",
        "\n",
        "kita dapat menyebutkan argumen dengan nama mereka untuk memperjelas apa yang mereka wakili.\n",
        "Kita dapat mengatur ulang argumen dengan acra yang membuatnya paling mudah dibaca."
      ]
    },
    {
      "cell_type": "code",
      "execution_count": null,
      "metadata": {
        "colab": {
          "base_uri": "https://localhost:8080/"
        },
        "id": "dMRy4rwgpMxQ",
        "outputId": "424e1fae-939e-4838-fa6d-336cc989c447"
      },
      "outputs": [
        {
          "name": "stdout",
          "output_type": "stream",
          "text": [
            "1 2 3\n",
            "1 2 3\n",
            "1 2 3\n",
            "1 2 3\n",
            "1 2 3\n"
          ]
        }
      ],
      "source": [
        "def angka(a, b, c):\n",
        "    print(a, b, c)\n",
        "\n",
        "#Argumen posisi\n",
        "#Argumen berdasarkan posisinya\n",
        "angka(1, 2, 3)\n",
        "\n",
        "#Argumen berdasarkan kata kuncinya\n",
        "angka(a=1, b=2, c=3)\n",
        "angka(c=3, b=2, a=1)\n",
        "#Catatan : Jika sudah diberi kunci maka urutan tidak menjadi penting\n",
        "\n",
        "#Campuran antara Argumen posisi dan Argumen kata kunci\n",
        "angka(1, b=2, c=3)\n",
        "\n",
        "# Ini tidak diijinkan:\n",
        "#angka(1, b=2, 3) # Argumen posisional setelah argumen kunci\n",
        "#angka(1, b=2, a=3) # Terdapat dua nilai untuk argumen kunci 'a'\n",
        "#angka(a=1, 2, 3) # Argumen posisional setelah argumen kunci\n",
        "angka(1, 2, c=3) # bisa karena argumen posisional setelah argumen kunci"
      ]
    },
    {
      "cell_type": "markdown",
      "metadata": {
        "id": "M2b8ygOcrNB8"
      },
      "source": [
        "##Argumen Default"
      ]
    },
    {
      "cell_type": "markdown",
      "metadata": {
        "id": "qQKgyel7rT9E"
      },
      "source": [
        "Fungsi dapat memiliki argumen default denga nilai yang telah ditentukan sebelumnya. Argumen ini dapat ditinggalkan dan nilai default kemudian diteruskan ke fungsi, atau argumen dapat dirubah dengan nilai yang berbeda.\n",
        "\n",
        "Perhatikan bahwa argumen default harus ditentukan sebagai parameter terakhir dalam suatu fungsi."
      ]
    },
    {
      "cell_type": "code",
      "execution_count": null,
      "metadata": {
        "colab": {
          "base_uri": "https://localhost:8080/"
        },
        "id": "QmvPRvSErA1K",
        "outputId": "e842744e-d0fb-41d7-a257-fe91ff48a608"
      },
      "outputs": [
        {
          "name": "stdout",
          "output_type": "stream",
          "text": [
            "1 2 3 4\n",
            "1 2 3 100\n"
          ]
        }
      ],
      "source": [
        "#Argumen default\n",
        "# Argumen default\n",
        "def angka2(a, b, c, d=4):\n",
        "    print(1, b, c, d)\n",
        "\n",
        "angka2(1, 2, 3, 4)\n",
        "angka2(1, b=2, c=3, d=100)\n",
        "\n",
        "\n",
        "#Argumen default harus diletakkan terakhir\n",
        "#karena jika tidak diakhir akan terjadi error"
      ]
    },
    {
      "cell_type": "markdown",
      "source": [
        "## Praktik membuat fungsi"
      ],
      "metadata": {
        "id": "mhnR6fFFPflT"
      }
    },
    {
      "cell_type": "code",
      "execution_count": null,
      "metadata": {
        "colab": {
          "base_uri": "https://localhost:8080/"
        },
        "id": "r-PPN4F0rjaM",
        "outputId": "981fd191-2edc-476b-b706-bc7d8fa39ccc"
      },
      "outputs": [
        {
          "data": {
            "text/plain": [
              "3"
            ]
          },
          "execution_count": 29,
          "metadata": {},
          "output_type": "execute_result"
        }
      ],
      "source": [
        "x = 1\n",
        "y = 2\n",
        "x+y"
      ]
    },
    {
      "cell_type": "code",
      "execution_count": null,
      "metadata": {
        "colab": {
          "base_uri": "https://localhost:8080/"
        },
        "id": "nAU91XAlsaGt",
        "outputId": "c19fc3dd-e456-42f2-c21c-a6d69023f951"
      },
      "outputs": [
        {
          "data": {
            "text/plain": [
              "3"
            ]
          },
          "execution_count": 30,
          "metadata": {},
          "output_type": "execute_result"
        }
      ],
      "source": [
        "def penjumlahan(x,y): #input\n",
        "  a=x+y                 #proses # harus dijorokan kedalam setelah def\n",
        "  return a              #output\n",
        "\n",
        "penjumlahan(1, 2)     #menggunakan fungsi"
      ]
    },
    {
      "cell_type": "markdown",
      "metadata": {
        "id": "Dc6sJHl0s_sM"
      },
      "source": [
        "penjumlahan yg memumgkinkan untuk tiga bilangan"
      ]
    },
    {
      "cell_type": "code",
      "execution_count": null,
      "metadata": {
        "colab": {
          "base_uri": "https://localhost:8080/"
        },
        "id": "wPbc2jVFtDr4",
        "outputId": "40d60556-351c-4dfb-b19c-87d63caedae3"
      },
      "outputs": [
        {
          "name": "stdout",
          "output_type": "stream",
          "text": [
            "3\n",
            "6\n"
          ]
        }
      ],
      "source": [
        "def penjumlahan(x,y,z=None):\n",
        "  if (z==None):   \n",
        "    return x+y    # output jika nilai z tidak ada\n",
        "  else:\n",
        "    return x+y+z\n",
        "\n",
        "print(penjumlahan(1, 2))\n",
        "print(penjumlahan(1, 2, 3))      "
      ]
    },
    {
      "cell_type": "markdown",
      "metadata": {
        "id": "zAo6qv8Ctzvy"
      },
      "source": [
        "menyimpan hasil fungsi dalam variabel"
      ]
    },
    {
      "cell_type": "code",
      "execution_count": null,
      "metadata": {
        "colab": {
          "base_uri": "https://localhost:8080/"
        },
        "id": "VcRIOGCet5uU",
        "outputId": "2fa332e3-d858-4bc4-de67-9f1a23c2aa41"
      },
      "outputs": [
        {
          "data": {
            "text/plain": [
              "3"
            ]
          },
          "execution_count": 32,
          "metadata": {},
          "output_type": "execute_result"
        }
      ],
      "source": [
        "def penjumlahan(x,y): #input\n",
        "  return x+y                 #proses # harus dijorokan kedalam setelah def\n",
        "\n",
        "a = penjumlahan\n",
        "a(1, 2)  "
      ]
    },
    {
      "cell_type": "markdown",
      "metadata": {
        "id": "_kPmnG8guTGj"
      },
      "source": [
        "## Latihan 1"
      ]
    },
    {
      "cell_type": "markdown",
      "metadata": {
        "id": "kE3ND9W1ueu7"
      },
      "source": [
        "buatlah function pythagoras dengan input argumennya panjang tinggi dan alas segitiga untuk menghasilkan output nilai panjang sisi miring."
      ]
    },
    {
      "cell_type": "code",
      "execution_count": null,
      "metadata": {
        "id": "hUx2XrtPuWfm"
      },
      "outputs": [],
      "source": [
        "def panjang_sisi_miring(x,y): #input\n",
        "    z = (x**2 + y**2)**(1/2)  #proses\n",
        "    return  z                 #output\n",
        "\n",
        "panjang_sisi_miring(3,4)"
      ]
    },
    {
      "cell_type": "markdown",
      "metadata": {
        "id": "qc0L95jh3Y8s"
      },
      "source": [
        "Latihan 2"
      ]
    },
    {
      "cell_type": "markdown",
      "metadata": {
        "id": "a7dAnIaW3fJ9"
      },
      "source": [
        "Buatlah function luas permukaan balok dengan input argumennya panjang, lebar dan tinggi dari balok untuk mn=enghasilkan output nilai luas permukaan tersebut."
      ]
    },
    {
      "cell_type": "code",
      "execution_count": null,
      "metadata": {
        "id": "JYl6cWGx3ac1"
      },
      "outputs": [],
      "source": [
        "def panjang_sisi_miring(p,l,t): #input\n",
        "    L = 2*((p*l)+(p*t)+(t*l)) #proses\n",
        "    return  L                 #output\n",
        "\n",
        "panjang_sisi_miring(15,10,5)"
      ]
    },
    {
      "cell_type": "markdown",
      "metadata": {
        "id": "CShEAFQavatE"
      },
      "source": [
        "# Lambda"
      ]
    },
    {
      "cell_type": "markdown",
      "metadata": {
        "id": "pi2xGFX4wvDv"
      },
      "source": [
        "Fungsi Lambda adalah fungsi anonim one line yang didefinisikan tanpa nama. Fungsi lambda dapat mengambil sejumlah argumen, tetapi hanya dapat memiliki satu expression. Sementara fungsi normal didefinisikan menggunakan kata kunci def, dalam python fungsi anonim didefinisikan menggunakan kata kunci lambda.\n",
        "\n",
        "Fungsi Lambda digunakan ketika fungsi sederhana hanya digunakan sekali atau untuk waktu yang singkat dalam kode kita. Penggunaannya yang paling umum adalah sebagai argumen untuk fungsi tingkat tinggi (fungsi yang menggunakan fungsi lain sebagai argumen)."
      ]
    },
    {
      "cell_type": "markdown",
      "metadata": {
        "id": "aOlDeUtRvlvq"
      },
      "source": [
        "Lambda expression di python adalah sebuah ekspresi untuk membuat fungsi.\n",
        "\n",
        "Lambda sendiri berasal dari teori kalkulus, yakni lambda calculus yang dikenalkan olah Alonzo Church ditahun 1930.\n",
        "\n",
        "Berkat lambda, kita bisa membuat fungsi tanpa nama atau di kenal juga dengan anonymous function.\n",
        "\n",
        "Misalkan kita punya fungsi penjumlahan kuadrat seperti ini :"
      ]
    },
    {
      "cell_type": "code",
      "execution_count": null,
      "metadata": {
        "colab": {
          "background_save": true
        },
        "id": "WXhpyTP9vfUu"
      },
      "outputs": [],
      "source": [
        "def square_sum(x,y):\n",
        "  return x**2 + y**2"
      ]
    },
    {
      "cell_type": "markdown",
      "metadata": {
        "id": "71kzk0Fmv6-X"
      },
      "source": [
        "dengan lambda..kita tidak perlu menggunakan def dan return, bahkan kita juga tidak perlu menuliskan namanya"
      ]
    },
    {
      "cell_type": "code",
      "execution_count": null,
      "metadata": {
        "colab": {
          "background_save": true
        },
        "id": "rgg6wPZtwXKQ",
        "outputId": "77e27e8b-8569-4f10-c423-e2e25b279da4"
      },
      "outputs": [
        {
          "data": {
            "text/plain": [
              "<function __main__.<lambda>(x, y)>"
            ]
          },
          "execution_count": 54,
          "metadata": {},
          "output_type": "execute_result"
        }
      ],
      "source": [
        "lambda x,y : x**2 + y**2"
      ]
    },
    {
      "cell_type": "markdown",
      "metadata": {
        "id": "P98bZvZ2wmMg"
      },
      "source": [
        "Lambda bisa memiliki lebih dari satu argumen atau parameter, tapi hanya bisa memiliki satu ekspresi atau isi."
      ]
    },
    {
      "cell_type": "code",
      "execution_count": null,
      "metadata": {
        "colab": {
          "background_save": true
        },
        "id": "yGyBFDFnw85K"
      },
      "outputs": [],
      "source": [
        "greeting = lambda name: print(f\"hello , {name}\")"
      ]
    },
    {
      "cell_type": "markdown",
      "metadata": {
        "id": "pTdiN9C-xEaE"
      },
      "source": [
        "karena fungsi lambda tidak punya nama, jadi kita butuh variabel untuk menyimpannya.\n",
        "\n",
        "Nanti saat kita mau panggil, kita tinggal tuliskan saja nama variabelnya seperti ini:\n"
      ]
    },
    {
      "cell_type": "code",
      "execution_count": null,
      "metadata": {
        "colab": {
          "background_save": true,
          "base_uri": "https://localhost:8080/"
        },
        "id": "2S80CInoxBpC",
        "outputId": "03de68be-50a0-4f17-a1e1-f9f597cba7b4"
      },
      "outputs": [
        {
          "name": "stdout",
          "output_type": "stream",
          "text": [
            "hello , Nia\n",
            "hello , Andria\n"
          ]
        }
      ],
      "source": [
        "greeting(\"Nia\")\n",
        "greeting(\"Andria\")"
      ]
    },
    {
      "cell_type": "markdown",
      "metadata": {
        "id": "z_TLM1tWxh5g"
      },
      "source": [
        "Beberapa contoh penggunaan fungsi lambda"
      ]
    },
    {
      "cell_type": "code",
      "execution_count": null,
      "metadata": {
        "colab": {
          "background_save": true,
          "base_uri": "https://localhost:8080/"
        },
        "id": "WqBogdNVxi-T",
        "outputId": "c9281a06-82e1-4154-be61-6ac28a08a40e"
      },
      "outputs": [
        {
          "name": "stdout",
          "output_type": "stream",
          "text": [
            "15 110\n"
          ]
        }
      ],
      "source": [
        "#Fungsi lambda untuk menambahkan angka 10 kepada argumen input\n",
        "f = lambda x: x+10 \n",
        "val1 = f(5)\n",
        "val2 = f(100)\n",
        "print(val1, val2)"
      ]
    },
    {
      "cell_type": "code",
      "execution_count": null,
      "metadata": {
        "colab": {
          "background_save": true,
          "base_uri": "https://localhost:8080/"
        },
        "id": "veIXbBbAyBHG",
        "outputId": "7fe8b745-969e-407b-a593-73b8fe347ed3"
      },
      "outputs": [
        {
          "name": "stdout",
          "output_type": "stream",
          "text": [
            "20 35\n"
          ]
        }
      ],
      "source": [
        "#Fungsi lambda untuk mengalikan dua argumen input dan menampilkan hasilnya\n",
        "f = lambda x,y: x*y\n",
        "val3 = f(2,10)\n",
        "val4 = f(7,5)\n",
        "print(val3, val4)"
      ]
    },
    {
      "cell_type": "markdown",
      "metadata": {
        "id": "9X41O8puySAL"
      },
      "source": [
        "##Anonymous Function"
      ]
    },
    {
      "cell_type": "markdown",
      "source": [
        "Karena lambda adalah anonymous function, ia akan bebas menggunakan nama apa saja. Dengan kata lain, fungsi lambda bisa disimpan di variabel manapun. Ini tentunya tidak bisa dilakukan oleh fungsi yang dibuat dengan def. Coba perhatikan ini :"
      ],
      "metadata": {
        "id": "btGzUIGmNhm9"
      }
    },
    {
      "cell_type": "code",
      "execution_count": null,
      "metadata": {
        "colab": {
          "background_save": true,
          "base_uri": "https://localhost:8080/",
          "height": 200
        },
        "id": "jtKCts4MyX-q",
        "outputId": "a55c72fe-cb76-4a65-8abd-414b267869e0"
      },
      "outputs": [
        {
          "ename": "NameError",
          "evalue": "ignored",
          "output_type": "error",
          "traceback": [
            "\u001b[0;31m---------------------------------------------------------------------------\u001b[0m",
            "\u001b[0;31mNameError\u001b[0m                                 Traceback (most recent call last)",
            "\u001b[0;32m<ipython-input-59-ca3396a90b62>\u001b[0m in \u001b[0;36m<module>\u001b[0;34m\u001b[0m\n\u001b[1;32m      2\u001b[0m   \u001b[0mprint\u001b[0m\u001b[0;34m(\u001b[0m\u001b[0;34mf\"hello {name}, apa kabar ?\"\u001b[0m\u001b[0;34m)\u001b[0m\u001b[0;34m\u001b[0m\u001b[0;34m\u001b[0m\u001b[0m\n\u001b[1;32m      3\u001b[0m \u001b[0;34m\u001b[0m\u001b[0m\n\u001b[0;32m----> 4\u001b[0;31m \u001b[0mucapin\u001b[0m \u001b[0;34m=\u001b[0m \u001b[0msay_hello\u001b[0m\u001b[0;34m(\u001b[0m\u001b[0mname\u001b[0m\u001b[0;34m)\u001b[0m\u001b[0;34m\u001b[0m\u001b[0;34m\u001b[0m\u001b[0m\n\u001b[0m\u001b[1;32m      5\u001b[0m \u001b[0;34m\u001b[0m\u001b[0m\n",
            "\u001b[0;31mNameError\u001b[0m: name 'name' is not defined"
          ]
        }
      ],
      "source": [
        "def say_hello(nama):\n",
        "  print(f\"hello {name}, apa kabar ?\")\n",
        "\n",
        "ucapin = say_hello(name)\n",
        "\n"
      ]
    },
    {
      "cell_type": "markdown",
      "metadata": {
        "id": "071BrS4B0BNh"
      },
      "source": [
        "saya mencoba membuat fungsi say_hello() dengan def, kemudianmenyimpannya kedalam variabel ucapin\n",
        "\n",
        "Tapi malah error!\n",
        "\n",
        "Ini karena fungsi tersebut bukanlah fungsi anonymous yang boleh diubah ubah namanya.\n",
        "\n",
        "Lalu coba perhatikan dibaris terakhir, fungsi lambda greeting() yang sudah dibuat disimpan lagi ke variabel yang berbeda, yakni sapa."
      ]
    },
    {
      "cell_type": "code",
      "source": [
        "greeting = lambda name: print(f\"hello, {name}\")\n",
        "sapa = greeting\n",
        "greeting(\"Andi\")\n",
        "sapa(\"Neli\")"
      ],
      "metadata": {
        "id": "zBpw9V7cNmNN"
      },
      "execution_count": null,
      "outputs": []
    },
    {
      "cell_type": "markdown",
      "source": [
        "Hasilnya tidak error, karena ini adalah fungsi anonymous atau lambda."
      ],
      "metadata": {
        "id": "rUe9_SuENpYN"
      }
    },
    {
      "cell_type": "markdown",
      "metadata": {
        "id": "VcnwpS180gAq"
      },
      "source": [
        "##Eksekusi lambda secara langsung"
      ]
    },
    {
      "cell_type": "markdown",
      "metadata": {
        "id": "eDy5phrh0mJm"
      },
      "source": [
        "Eksekusi lambda secara langsung kelebihan fungsi lambda dibandingkan def adalah bisa kita eksekusi langsung"
      ]
    },
    {
      "cell_type": "markdown",
      "metadata": {
        "id": "dCA-Tsce0rwb"
      },
      "source": [
        "contohnya:"
      ]
    },
    {
      "cell_type": "code",
      "execution_count": null,
      "metadata": {
        "colab": {
          "background_save": true
        },
        "id": "ueLZTY6cy1uj"
      },
      "outputs": [],
      "source": [
        "(lambda x,y: x**2 + y**2)(4,6)"
      ]
    },
    {
      "cell_type": "markdown",
      "metadata": {
        "id": "RCKe-X8o1C7K"
      },
      "source": [
        "Tanda kurung yang mengapit fungsi lambda artinya kita akan langsung mengeksekusi fungsi tersebut.\n",
        "\n",
        "Lalu kurung berikutnya akan berisi parameter.\n",
        "\n",
        "Angka 4 dan 6 adalah parameter x dan y yang akan diberikan kepada fungsi lambda.\n",
        "\n",
        "Maka kita akan langsung mendapat hasilnya, yakni: 42 + 62 = 52\n",
        "\n",
        "Hasil dari eksekusi ini bisa juga kita simpan ke dalam variabel."
      ]
    },
    {
      "cell_type": "code",
      "source": [
        "hasil = (lambda x,y: x**2 + y**2)(4,6)"
      ],
      "metadata": {
        "id": "547a-p7qN2U7"
      },
      "execution_count": null,
      "outputs": []
    },
    {
      "cell_type": "markdown",
      "metadata": {
        "id": "UMYDUpsH0_tt"
      },
      "source": [
        "## Mengapa Harus Pakai Lambda?\n",
        " Kita memang tidak harus selalu menggunakan lambda, tapi dalam kasus tertentu lambda lebih baik dibandingkan fungsi biasa.\n",
        "\n",
        "lambda biasanya dibutuhkan saat kita ingin membuat fungsi dalam satu baris.\n",
        "\n",
        "Biasanya saat menggunakan fungsi fungsi seperti filter(),map(), dan reduce() kita akan membutuhkan lambda.\n",
        "\n",
        "mengapa?\n",
        "\n",
        "Karena fungsi fungsi tersebut membutuhkan parameter fungsi"
      ]
    },
    {
      "cell_type": "markdown",
      "metadata": {
        "id": "OPc0lbWa1LeC"
      },
      "source": [
        "contoh:"
      ]
    },
    {
      "cell_type": "code",
      "execution_count": null,
      "metadata": {
        "colab": {
          "background_save": true
        },
        "id": "vNpjSWVL1W6z"
      },
      "outputs": [],
      "source": [
        "bilangan = [10,2,8,7,5,4,3,11,0,1]\n",
        "filtered_result = map (lambda x: x*x, bilangan) # menggunakan lambda untuk mempersingkat codingannya\n",
        "print(list(filtered_result))"
      ]
    },
    {
      "cell_type": "markdown",
      "metadata": {
        "id": "NjHN4HNX1y3w"
      },
      "source": [
        "Pada fungsi map() kita memberikan parameter dengan fungsi lambda.\n",
        "\n",
        "Mengapa bisa begitu?\n",
        "\n",
        "Karena lambda bisa disimpan ke dalam variabel, otomatis dia akan bisa juga jadi parameter.\n",
        "\n",
        "Satu lagi contoh dengan fungsi filter():"
      ]
    },
    {
      "cell_type": "code",
      "execution_count": null,
      "metadata": {
        "colab": {
          "background_save": true
        },
        "id": "-UNZtLGH1z68"
      },
      "outputs": [],
      "source": [
        "# menentukan bilangan genap\n",
        "genap = lambda x: x%2 == 0 # persen artinya stepsize\n",
        "list(filter(genap, range(11))) # menampilkan bilangan genap dari 0 sampai 11"
      ]
    },
    {
      "cell_type": "code",
      "execution_count": null,
      "metadata": {
        "colab": {
          "background_save": true
        },
        "id": "Cez1Y1QJ2P1w"
      },
      "outputs": [],
      "source": [
        "# menentukan bilangan genap\n",
        "genap = lambda x: x%2 == 1\n",
        "list(filter(genap, range(11)))"
      ]
    },
    {
      "cell_type": "markdown",
      "metadata": {
        "id": "5Mw6MXF52-RV"
      },
      "source": [
        "##Latihan 2"
      ]
    },
    {
      "cell_type": "markdown",
      "metadata": {
        "id": "n2BxUDJB3Ay7"
      },
      "source": [
        "Buatlah fungsi lambda untuk menghitung luas dari persegi panjang\n",
        "\n",
        "*   Input berupa variabel a dan t\n",
        "*   fungsi lambda disimpan dalam variabel 'Luas_Segitiga'\n",
        "*   Jika fungsi lambda dijalankan akan menghasilkan output \" Luas segitiga anda *(luasnya)* Cm \""
      ]
    },
    {
      "cell_type": "code",
      "execution_count": null,
      "metadata": {
        "colab": {
          "background_save": true
        },
        "id": "Sivv9HLw3HqO"
      },
      "outputs": [],
      "source": [
        "# Jawab :\n",
        "Luas_Segitiga= lambda a,t: print(f\"Luas segitiga anda {1/2*(a*t)} cm\")\n",
        "Luas_Segitiga (3,4)"
      ]
    }
  ],
  "metadata": {
    "colab": {
      "collapsed_sections": [
        "l3ywFcrmnBS2",
        "CShEAFQavatE"
      ],
      "provenance": [],
      "authorship_tag": "ABX9TyMNQ2kczWoPHSa6p45zXeH1",
      "include_colab_link": true
    },
    "kernelspec": {
      "display_name": "Python 3",
      "name": "python3"
    },
    "language_info": {
      "name": "python"
    }
  },
  "nbformat": 4,
  "nbformat_minor": 0
}