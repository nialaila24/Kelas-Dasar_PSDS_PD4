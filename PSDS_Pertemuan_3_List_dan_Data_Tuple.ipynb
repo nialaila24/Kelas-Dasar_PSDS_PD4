{
  "nbformat": 4,
  "nbformat_minor": 0,
  "metadata": {
    "colab": {
      "provenance": [],
      "authorship_tag": "ABX9TyPJgkhNtvoedsKRplc5AnyY",
      "include_colab_link": true
    },
    "kernelspec": {
      "name": "python3",
      "display_name": "Python 3"
    },
    "language_info": {
      "name": "python"
    }
  },
  "cells": [
    {
      "cell_type": "markdown",
      "metadata": {
        "id": "view-in-github",
        "colab_type": "text"
      },
      "source": [
        "<a href=\"https://colab.research.google.com/github/nialaila24/Kelas-Dasar_PSDS_PD4/blob/main/PSDS_Pertemuan_3_List_dan_Data_Tuple.ipynb\" target=\"_parent\"><img src=\"https://colab.research.google.com/assets/colab-badge.svg\" alt=\"Open In Colab\"/></a>"
      ]
    },
    {
      "cell_type": "markdown",
      "source": [
        "NAMA : Nia Andriani Laila\n",
        "\n",
        "NIM : 2000015002\n",
        "\n",
        "KELAS DASAR"
      ],
      "metadata": {
        "id": "4Bj0pnqpEWwA"
      }
    },
    {
      "cell_type": "markdown",
      "source": [
        "# List \n"
      ],
      "metadata": {
        "id": "UZyQXkINXbBN"
      }
    },
    {
      "cell_type": "markdown",
      "source": [
        "List adalah jenis kumpulan data terurut (ordered sequence) dan merupakan salah satu dari variabel yang sering digunakan di phyton. Serupa namun tak sama dengan array pada bahasa pemrograman. Bedanya, elemen List pada Phyton tidak harus memiliki tipe data yang sama. Mendeklarasikan List cukup mudah dengan kurung siku dan elemen yang dipisahkan dengan koma. Setiap data didalamnya dapat diakses dengan indeks yang dimulai dari 0."
      ],
      "metadata": {
        "id": "L95zN2nxXupC"
      }
    },
    {
      "cell_type": "code",
      "execution_count": null,
      "metadata": {
        "colab": {
          "base_uri": "https://localhost:8080/"
        },
        "id": "-SHS6r5fVpkn",
        "outputId": "8d67c86f-78bb-4c31-9cc1-462b7c953910"
      },
      "outputs": [
        {
          "output_type": "stream",
          "name": "stdout",
          "text": [
            "<class 'list'>\n"
          ]
        }
      ],
      "source": [
        "#contoh list\n",
        "L1 = [1,4,2,13]\n",
        "\n",
        "print(type(L1))"
      ]
    },
    {
      "cell_type": "code",
      "source": [
        "#menggunakan tipe data yang sama\n",
        "L1 = [1,4,2,13]\n",
        "L1"
      ],
      "metadata": {
        "colab": {
          "base_uri": "https://localhost:8080/"
        },
        "id": "idzTole0YLXp",
        "outputId": "161c436a-4b2d-4f9a-a449-065b6cf22415"
      },
      "execution_count": null,
      "outputs": [
        {
          "output_type": "execute_result",
          "data": {
            "text/plain": [
              "[1, 4, 2, 13]"
            ]
          },
          "metadata": {},
          "execution_count": 2
        }
      ]
    },
    {
      "cell_type": "code",
      "source": [
        "L2 = [\"a\",\"Python\",3]\n",
        "L2"
      ],
      "metadata": {
        "id": "Ig64SGKODE9b"
      },
      "execution_count": null,
      "outputs": []
    },
    {
      "cell_type": "code",
      "source": [
        "print(L1)\n",
        "print(L2)"
      ],
      "metadata": {
        "id": "hAw6QqYNDHXm"
      },
      "execution_count": null,
      "outputs": []
    },
    {
      "cell_type": "markdown",
      "source": [
        "menampilkan elemen dengan menggunakan fungsi print"
      ],
      "metadata": {
        "id": "6dLeAosCaDuZ"
      }
    },
    {
      "cell_type": "code",
      "source": [
        "matkul = [\"fuzzy\",\"pdp\",\"metnum\",\"graph\"]\n",
        "print(matkul[2])"
      ],
      "metadata": {
        "colab": {
          "base_uri": "https://localhost:8080/"
        },
        "id": "Msru9mOAZNkt",
        "outputId": "fa1d7b03-780c-4666-f186-040e625e1b31"
      },
      "execution_count": null,
      "outputs": [
        {
          "output_type": "stream",
          "name": "stdout",
          "text": [
            "metnum\n"
          ]
        }
      ]
    },
    {
      "cell_type": "markdown",
      "source": [
        "##Latihan 1\n"
      ],
      "metadata": {
        "id": "br-qyL7VbQ-p"
      }
    },
    {
      "cell_type": "code",
      "source": [
        "#Buatlah list kalian sendiri dengan tiga tipe data minimal enam elemen\n",
        "# yang memakai tanda petik hanya tipe string\n",
        "N = [1,\"and\",True,2,\"blue\",False]\n",
        "print(N[2:-2])\n",
        "print(N[-2])\n",
        "print(N[2:5])\n",
        "print(N[2:-1])\n",
        "print(N[0:-1])\n",
        "print(N[-2:1])\n",
        "print(N[-2:-1])\n"
      ],
      "metadata": {
        "colab": {
          "base_uri": "https://localhost:8080/"
        },
        "id": "y9xyi2O5bS0u",
        "outputId": "0824a386-1ce3-4d9d-ce38-366eee50cdbf"
      },
      "execution_count": null,
      "outputs": [
        {
          "output_type": "stream",
          "name": "stdout",
          "text": [
            "[True, 2]\n",
            "blue\n",
            "[True, 2, 'blue']\n",
            "[True, 2, 'blue']\n",
            "[1, 'and', True, 2, 'blue']\n",
            "[]\n",
            "['blue']\n"
          ]
        }
      ]
    },
    {
      "cell_type": "markdown",
      "source": [
        "Indeks di Python(List, Tuple) mulai dari 0"
      ],
      "metadata": {
        "id": "naQQ7gkYDgid"
      }
    },
    {
      "cell_type": "code",
      "source": [
        "#Sifat sifat List\n",
        "\n",
        "#Terurut / Ordered\n",
        "print(\"Memanggil List L1 dengan indeks ururtan:\", L1[0:3])\n",
        "\n",
        "#Bisa Diganti / Mutable\n",
        "L1[1] = 2\n",
        "print(\"List L1 setelah diganti elemennya:\", L1)\n",
        "\n",
        "L1 = [1, \"dua\", True, 2+3j]\n",
        "\n",
        "#Dapat Diindeks  / Slicing\n",
        "print(\"Slicing  List L1:\", L1[3])\n",
        "\n",
        "#Dapat Diijinkan Duplikasi \n",
        "L1 = [1, \"dua\", True, 2+3j, 2+3j]\n",
        "print(\"Duplikasi pada List L1:\", L1)"
      ],
      "metadata": {
        "id": "UPlREymYDmbc"
      },
      "execution_count": null,
      "outputs": []
    },
    {
      "cell_type": "code",
      "source": [
        "#Ganti elemen yang ada pada List yang kalian buat\n",
        "\n",
        "#Terurut / Ordered\n",
        "print(\"Memanggil List A1 dengan indeks ururtan:\", A1[0:6])\n",
        "\n",
        "#Bisa Diganti / Mutable\n",
        "A1[1] = 10\n",
        "print(\"List A1 setelah diganti elemennya:\", A1)\n",
        "\n",
        "A1 = [3, \"empat\", True, 6+9j]\n",
        "\n",
        "#Dapat Diindeks  / Slicing\n",
        "print(\"Slicing  List A1:\", A1[2])\n",
        "\n",
        "#Dapat Diijinkan Duplikasi \n",
        "A1 = [2, \"empat\", True, 6+9j, 6+9j]\n",
        "print(\"Duplikasi pada List A1:\", A1)"
      ],
      "metadata": {
        "id": "H7Gf-WY9DsMQ"
      },
      "execution_count": null,
      "outputs": []
    },
    {
      "cell_type": "code",
      "source": [
        "#mengganti elemen\n",
        "N = [1,\"and\",True,2,\"blue\",False]\n",
        "N[2]=False\n",
        "print(N)"
      ],
      "metadata": {
        "colab": {
          "base_uri": "https://localhost:8080/"
        },
        "id": "nkRxKs3ThlAJ",
        "outputId": "1e0354ff-b751-429f-bcb3-24c99e3108fb"
      },
      "execution_count": null,
      "outputs": [
        {
          "output_type": "stream",
          "name": "stdout",
          "text": [
            "[1, 'and', False, 2, 'blue', False]\n"
          ]
        }
      ]
    },
    {
      "cell_type": "code",
      "source": [
        "#dapat diindeks/slicing\n",
        "N = [1,\"and\",True,2,\"blue\",False]\n",
        "print(\"slicing list N : \", N[3])"
      ],
      "metadata": {
        "colab": {
          "base_uri": "https://localhost:8080/"
        },
        "id": "wRvqBG0CiCym",
        "outputId": "f5784269-3843-48c1-e740-5541ea4217c7"
      },
      "execution_count": null,
      "outputs": [
        {
          "output_type": "stream",
          "name": "stdout",
          "text": [
            "slicing list N :  2\n"
          ]
        }
      ]
    },
    {
      "cell_type": "markdown",
      "source": [
        "# Struktur data tuple\n"
      ],
      "metadata": {
        "id": "ggbEiVNqjK4H"
      }
    },
    {
      "cell_type": "markdown",
      "source": [
        "Tuple adalah jenis dari struktur data yang tidak dapat diubah elemennya. Umumnya tuple digunakan untuk data yang bersifat sekali tulis dan dapat dieksekusi lebih cepat. Tuple didefinisikan dengan kurung dan elemen yang dipisahkan dengan koma."
      ],
      "metadata": {
        "id": "uyjZFXVOjZn9"
      }
    },
    {
      "cell_type": "code",
      "source": [
        "#Contoh Tuple\n",
        "T1 = (1, \"dua\", True, 1+2j)\n",
        "print(\"Ini adalah Tuple\", T1)"
      ],
      "metadata": {
        "id": "84VTrNcTEkNa"
      },
      "execution_count": null,
      "outputs": []
    },
    {
      "cell_type": "code",
      "source": [
        "#Menampilkan tipe struktur data\n",
        "type(T1)"
      ],
      "metadata": {
        "id": "bjUiarCmEpu1"
      },
      "execution_count": null,
      "outputs": []
    },
    {
      "cell_type": "markdown",
      "source": [
        "###Latihan 1"
      ],
      "metadata": {
        "id": "hdLOwGr5j28E"
      }
    },
    {
      "cell_type": "code",
      "source": [
        "#Buatlah list kalian sendiri dengan tiga tipe data minimal enam elemen\n",
        "N = (1,\"and\",True,2,\"blue\",False)\n",
        "print(\"ini adalah data tuple : \", N)"
      ],
      "metadata": {
        "colab": {
          "base_uri": "https://localhost:8080/"
        },
        "id": "rED60tMtjOuE",
        "outputId": "9070d114-ed63-4d3f-fc0e-9e91368e78a6"
      },
      "execution_count": null,
      "outputs": [
        {
          "output_type": "stream",
          "name": "stdout",
          "text": [
            "ini adalah data tuple :  (1, 'and', True, 2, 'blue', False)\n"
          ]
        }
      ]
    },
    {
      "cell_type": "markdown",
      "source": [
        "###Latihan 2"
      ],
      "metadata": {
        "id": "lSxO3G1AmFwP"
      }
    },
    {
      "cell_type": "code",
      "source": [
        "# Buatlah tuple baru lalu gabungkan 3 tuple yang telah digunakan\n",
        "N = (1,\"and\",True,2,\"blue\",False)\n",
        "I = (\"c\",False)\n",
        "A = (0.4,2.4)\n",
        "name = N + I + A\n",
        "print(name)"
      ],
      "metadata": {
        "colab": {
          "base_uri": "https://localhost:8080/"
        },
        "id": "TdRuRrIOmHfb",
        "outputId": "52925978-f1dc-4819-ede6-1471b881863b"
      },
      "execution_count": null,
      "outputs": [
        {
          "output_type": "stream",
          "name": "stdout",
          "text": [
            "(1, 'and', True, 2, 'blue', False, 'c', False, 0.4, 2.4)\n"
          ]
        }
      ]
    },
    {
      "cell_type": "markdown",
      "source": [
        "##Sifat Sifat Tuple"
      ],
      "metadata": {
        "id": "J9G3vH1TE1s_"
      }
    },
    {
      "cell_type": "code",
      "source": [
        "#Terurut / Ordered\n",
        "T1[0:3]"
      ],
      "metadata": {
        "id": "l24jQOMkE-gN"
      },
      "execution_count": null,
      "outputs": []
    },
    {
      "cell_type": "code",
      "source": [
        "#Tidak bisa diganti / Immutable\n",
        "T1[2] = \"manusia\""
      ],
      "metadata": {
        "id": "NxeTwDpoFFGX"
      },
      "execution_count": null,
      "outputs": []
    },
    {
      "cell_type": "code",
      "source": [
        "#Dapat Diindeks / Slicing\n",
        "print(\"elemen kedua dari tuple T1 adalah:\", T1[1])"
      ],
      "metadata": {
        "id": "iUTiSaWmFMvJ"
      },
      "execution_count": null,
      "outputs": []
    },
    {
      "cell_type": "code",
      "source": [
        "#Dapat Diijinkan Duplikasi\n",
        "T2 = (3, 2.4, True, 2.4)\n",
        "T2"
      ],
      "metadata": {
        "id": "Z_tSql1bFOeE"
      },
      "execution_count": null,
      "outputs": []
    },
    {
      "cell_type": "markdown",
      "source": [
        "##Menggabungkan Tuple"
      ],
      "metadata": {
        "id": "vPodvt2yFR0D"
      }
    },
    {
      "cell_type": "code",
      "source": [
        "#Menggabungkan Tuple\n",
        "T3 = T1 + T2\n",
        "T3"
      ],
      "metadata": {
        "id": "ddzgMC9xFbgL"
      },
      "execution_count": null,
      "outputs": []
    },
    {
      "cell_type": "markdown",
      "source": [
        "###Latihan 3"
      ],
      "metadata": {
        "id": "rpI6R3tmFe7p"
      }
    },
    {
      "cell_type": "code",
      "source": [
        "#Buatlah tuple kedua lalu gabungkan 2 tuple yang telah kamu buat \n",
        "\n",
        "B2 = (3, 1.3, True, 2.2)\n",
        "B2"
      ],
      "metadata": {
        "id": "9qnxEaySFkwP"
      },
      "execution_count": null,
      "outputs": []
    },
    {
      "cell_type": "code",
      "source": [
        "#Menggabungkan antara Tuple1 dan Tuple2\n",
        "B3 = B1 + B2\n",
        "B3"
      ],
      "metadata": {
        "id": "YJDIgHy4Fm92"
      },
      "execution_count": null,
      "outputs": []
    }
  ]
}