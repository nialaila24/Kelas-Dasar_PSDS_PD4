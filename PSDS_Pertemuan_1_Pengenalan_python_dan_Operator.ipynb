{
  "nbformat": 4,
  "nbformat_minor": 0,
  "metadata": {
    "colab": {
      "provenance": [],
      "authorship_tag": "ABX9TyMhgJJpegtTNH31vT4+clIX",
      "include_colab_link": true
    },
    "kernelspec": {
      "name": "python3",
      "display_name": "Python 3"
    },
    "language_info": {
      "name": "python"
    }
  },
  "cells": [
    {
      "cell_type": "markdown",
      "metadata": {
        "id": "view-in-github",
        "colab_type": "text"
      },
      "source": [
        "<a href=\"https://colab.research.google.com/github/nialaila24/Kelas-Dasar_PSDS_PD4/blob/main/PSDS_Pertemuan_1_Pengenalan_python_dan_Operator.ipynb\" target=\"_parent\"><img src=\"https://colab.research.google.com/assets/colab-badge.svg\" alt=\"Open In Colab\"/></a>"
      ]
    },
    {
      "cell_type": "markdown",
      "source": [
        "Nama : Nia Andriani Laila\n",
        "\n",
        "NIm  : 2000015002\n",
        "\n",
        "Kelas : DASAR"
      ],
      "metadata": {
        "id": "7HQSf-kUoauX"
      }
    },
    {
      "cell_type": "markdown",
      "source": [
        "#Pengenalan Python"
      ],
      "metadata": {
        "id": "Md9xTWTAb4sb"
      }
    },
    {
      "cell_type": "markdown",
      "source": [
        "Python adalah bahasa pemrograman tingkat tinggi dengan dinamic semantics. bersifat object oriented, dan interpraetatif. Bahasa pemrograman ini fokus dikembangkan pada keterbacaan bahasa pemrograman.\n",
        "\n",
        "1. Bahasa Pemrograman Tingkat Tinggi(HIgh Level Programming) artinya sintaks kode lebih mudah ditafsirkan oleh manusia\n",
        "2.Interpretatifini artinya bahasa ini memerlukan intrepeter atau penerjemah. ini memungkinkan bagi kita untuk menggunakan bahasa yang lebih mudah kita pahami\n",
        "3.Object Oriented ini berarti bahwa bahasa pemrograman ini berorientasi kepada objek. hal ini membuat python lebih mudah untuk dikembangkan\n",
        "4.Dynamic Semantics python secara otomatis akan menyesuaikan tipe dari suatu variable berdasarkan inputnya"
      ],
      "metadata": {
        "id": "5jmt9s8Ub9ZQ"
      }
    },
    {
      "cell_type": "markdown",
      "source": [
        "##Mengapa Python"
      ],
      "metadata": {
        "id": "AxsDCWrldu4o"
      }
    },
    {
      "cell_type": "markdown",
      "source": [
        "1.Mudah dipahami\n",
        "\n",
        "2.Gratis dan Open Source\n",
        "\n",
        "3.Dinamis\n",
        "\n",
        "4.Memiliki Library Terlengkap untuk Data Sains"
      ],
      "metadata": {
        "id": "a9i9tC0Bd6Cg"
      }
    },
    {
      "cell_type": "markdown",
      "source": [
        "##Struktur Program Pada Python"
      ],
      "metadata": {
        "id": "8H4r39A0eMHu"
      }
    },
    {
      "cell_type": "markdown",
      "source": [
        "Python pada umumnya terdiri dari :\n",
        "\n",
        "1. Statements"
      ],
      "metadata": {
        "id": "FsUpLWgveaXc"
      }
    },
    {
      "cell_type": "code",
      "source": [
        "print(\"belajar python menyenangkan\")\n",
        "print(\"halo dunia\")"
      ],
      "metadata": {
        "colab": {
          "base_uri": "https://localhost:8080/"
        },
        "id": "uE2jnY4cefj7",
        "outputId": "634c605b-8413-4dd0-b5bd-1a9ecaa147d2"
      },
      "execution_count": null,
      "outputs": [
        {
          "output_type": "stream",
          "name": "stdout",
          "text": [
            "belajar python menyenangkan\n",
            "halo dunia\n"
          ]
        }
      ]
    },
    {
      "cell_type": "markdown",
      "source": [
        "** 2. variabel**"
      ],
      "metadata": {
        "id": "mxKcVwfCekIo"
      }
    },
    {
      "cell_type": "code",
      "source": [
        "bilangan1 = 5\n",
        "bilangan2 = 10 \n",
        "kalimat = \"Pejuang Data 3\""
      ],
      "metadata": {
        "id": "Pl6Qax3seowa"
      },
      "execution_count": null,
      "outputs": []
    },
    {
      "cell_type": "markdown",
      "source": [
        "3. Literals: Simbol simbol yang dapat kita gunakan untuk mengisi suatu variabel."
      ],
      "metadata": {
        "id": "4NeWm8xDerRM"
      }
    },
    {
      "cell_type": "markdown",
      "source": [
        "4. Operators: Simbol simbol yang dapat digunakan untuk mengubah nilai dari satu variabel dengan melibatkan satu atau lebih variabel dan literal"
      ],
      "metadata": {
        "id": "RjvCPEEjexFD"
      }
    },
    {
      "cell_type": "code",
      "source": [
        "A = bilangan1+bilangan2\n",
        "A"
      ],
      "metadata": {
        "colab": {
          "base_uri": "https://localhost:8080/"
        },
        "id": "2-mxusqmeu5H",
        "outputId": "20e75920-08be-4a56-b530-9ff410d7075a"
      },
      "execution_count": null,
      "outputs": [
        {
          "output_type": "execute_result",
          "data": {
            "text/plain": [
              "15"
            ]
          },
          "metadata": {},
          "execution_count": 4
        }
      ]
    },
    {
      "cell_type": "markdown",
      "source": [
        "5. Reserved Words: Kumpulan kata kata yang memiliki makna khusus dalam bahasa pemrograman python. False,return, dan for merupakan contoh dari reserved words"
      ],
      "metadata": {
        "id": "6d7iQY1Fe_mc"
      }
    },
    {
      "cell_type": "markdown",
      "source": [
        "6. Whitespace: Pada bahasa python, spasi dan tab memiliki makna khusus untuk menandai serangkain blok dalam kode python."
      ],
      "metadata": {
        "id": "w8uz9JQOfA8R"
      }
    },
    {
      "cell_type": "markdown",
      "source": [
        "7. Comments: Comments merupakan sekumpulan teks yang dituliskan di dalam sebuah program yang tidak akan mempengaruhi hasil dari sebuah program"
      ],
      "metadata": {
        "id": "QYcsGhr_fFDk"
      }
    },
    {
      "cell_type": "markdown",
      "source": [
        "Terdapat dua jenis comments di dalam python, yaitu:\n",
        "\n",
        "a. single line comment (comments dalam satu baris) seperti pada contoh berikut:"
      ],
      "metadata": {
        "id": "MOSuCIR_fIKf"
      }
    },
    {
      "cell_type": "code",
      "source": [
        "# Ini adalah Comment\n",
        "print(\"belajar python\")"
      ],
      "metadata": {
        "colab": {
          "base_uri": "https://localhost:8080/"
        },
        "id": "huj25pEvfPxT",
        "outputId": "ac412c5f-3f36-4819-a518-53814f63acaa"
      },
      "execution_count": null,
      "outputs": [
        {
          "output_type": "stream",
          "name": "stdout",
          "text": [
            "belajar python\n"
          ]
        }
      ]
    },
    {
      "cell_type": "markdown",
      "source": [
        "b. multi line comment (comments dalam beberapa baris) yang dapat dituliskan seperti pada contoh berikut:"
      ],
      "metadata": {
        "id": "XCsguRIifSeV"
      }
    },
    {
      "cell_type": "code",
      "source": [
        "'''\n",
        "Ini adalah komentar panjang \n",
        "Bisa digunakan untuk memberikan penjelasan \n",
        "panjang pada Sell Kode Python,\n",
        "Misal dokumentasi program, spesifikasi \n",
        "input output atau lainnya \n",
        "'''\n",
        "print('Belajar python menyenangkan')"
      ],
      "metadata": {
        "colab": {
          "base_uri": "https://localhost:8080/"
        },
        "id": "r3_2s_DXfT8H",
        "outputId": "25da6cb0-b60e-42f5-8d76-cf8a50457d2b"
      },
      "execution_count": null,
      "outputs": [
        {
          "output_type": "stream",
          "name": "stdout",
          "text": [
            "Belajar python menyenangkan\n"
          ]
        }
      ]
    },
    {
      "cell_type": "markdown",
      "source": [
        "#Operator"
      ],
      "metadata": {
        "id": "BeRWobO4fuUV"
      }
    },
    {
      "cell_type": "markdown",
      "source": [
        "###Operator\n",
        "Operator simbol simbol yang dapat digunakan untuk mengubah nilai dari satu variabel dengan melibatkan satu atau lebih variabel dan literal. Tipe tipe operator :\n",
        "\n",
        "Operator Aritmatika\n",
        "Operator Assignment\n",
        "Operator Pembanding\n",
        "Operator Logika\n",
        "Operator Membership"
      ],
      "metadata": {
        "id": "LRW6oWCrfx0U"
      }
    },
    {
      "cell_type": "markdown",
      "source": [
        "##Operator Aritmatika"
      ],
      "metadata": {
        "id": "TYEh7B3Jt1oR"
      }
    },
    {
      "cell_type": "markdown",
      "source": [
        "Operator Aritmatika digunakan untuk melkaukan operasi matematika yang umum.\n",
        "\n",
        "Macam macam Operator Aritmatika, yaitu :"
      ],
      "metadata": {
        "id": "h8uZnAoZgded"
      }
    },
    {
      "cell_type": "markdown",
      "source": [
        "+ : Penjumlahan\n",
        "- : Pengurangan\n",
        "* :Perkalian\n",
        "/ : Pembagian\n",
        "% : Modulus\n",
        "**: Perpangkatan\n",
        "//: Pembagian dengan hasil pembulatan flooring"
      ],
      "metadata": {
        "id": "PJcWcZRBgjQM"
      }
    },
    {
      "cell_type": "code",
      "source": [
        "#Contoh Penggunaan Operator Aritmatika\n",
        "#Penjumlahan \n",
        "print('Penjumlahan')\n",
        "print(2+2)\n",
        "#Pengurangan\n",
        "print('Pengurangan')\n",
        "print('-'*20)\n",
        "print(2-3)\n",
        "#Perkalian \n",
        "print('Perkalian')\n",
        "print('-'*20)\n",
        "print(2*3)\n",
        "#Pembagian \n",
        "print('Pembagian')\n",
        "print('-'*20)\n",
        "print(2/3)\n",
        "#Modulus\n",
        "print('Modulus')\n",
        "print('-'*20)\n",
        "print(3%2)\n",
        "#Perpangkatan\n",
        "print('Perpangkatan')\n",
        "print('-'*20)\n",
        "print(2**3)\n",
        "#Pembagian dengan hasil pembulatan flooring\n",
        "print('Pembagian pembulatan flooring')\n",
        "print('-'*20)\n",
        "print(3//2)"
      ],
      "metadata": {
        "colab": {
          "base_uri": "https://localhost:8080/"
        },
        "id": "rACrlQ3hghrJ",
        "outputId": "17509f14-b9a9-4901-d482-a8160b1a9ef4"
      },
      "execution_count": null,
      "outputs": [
        {
          "output_type": "stream",
          "name": "stdout",
          "text": [
            "Penjumlahan\n",
            "4\n",
            "Pengurangan\n",
            "--------------------\n",
            "-1\n",
            "Perkalian\n",
            "--------------------\n",
            "6\n",
            "Pembagian\n",
            "--------------------\n",
            "0.6666666666666666\n",
            "Modulus\n",
            "--------------------\n",
            "1\n",
            "Perpangkatan\n",
            "--------------------\n",
            "8\n",
            "Pembagian pembulatan flooring\n",
            "--------------------\n",
            "1\n"
          ]
        }
      ]
    },
    {
      "cell_type": "markdown",
      "source": [
        "###Latihan"
      ],
      "metadata": {
        "id": "nDV4O_yagxH-"
      }
    },
    {
      "cell_type": "markdown",
      "source": [
        "###Penjumlahan"
      ],
      "metadata": {
        "id": "AtU0hBIWpSl-"
      }
    },
    {
      "cell_type": "code",
      "source": [
        "x = 5\n",
        "y = 10\n",
        "print ('Penjumlahan')\n",
        "print('='*5)\n",
        "print (x+y)"
      ],
      "metadata": {
        "colab": {
          "base_uri": "https://localhost:8080/"
        },
        "id": "lJT3-4jbp83S",
        "outputId": "e4365a4d-272f-4657-99f4-9cfe4d7b6e0c"
      },
      "execution_count": null,
      "outputs": [
        {
          "output_type": "stream",
          "name": "stdout",
          "text": [
            "Penjumlahan\n",
            "=====\n",
            "15\n"
          ]
        }
      ]
    },
    {
      "cell_type": "markdown",
      "source": [
        "###Pengurangan"
      ],
      "metadata": {
        "id": "sqDLN5-npllS"
      }
    },
    {
      "cell_type": "code",
      "source": [
        "x = 5\n",
        "y = 10\n",
        "print('Pengurangan')\n",
        "print('='*5)\n",
        "print (x-y)"
      ],
      "metadata": {
        "colab": {
          "base_uri": "https://localhost:8080/"
        },
        "id": "fib4tzcNpsPz",
        "outputId": "6f424018-baa9-49f6-cc67-0735d7a258b4"
      },
      "execution_count": null,
      "outputs": [
        {
          "output_type": "stream",
          "name": "stdout",
          "text": [
            "Pengurangan\n",
            "=====\n",
            "-5\n"
          ]
        }
      ]
    },
    {
      "cell_type": "markdown",
      "source": [
        "###Perkalian"
      ],
      "metadata": {
        "id": "z6FsyKvJrjbt"
      }
    },
    {
      "cell_type": "code",
      "source": [
        "x = 5\n",
        "y = 10\n",
        "print('Perkalian')\n",
        "print('='*5)\n",
        "print (x*y)"
      ],
      "metadata": {
        "colab": {
          "base_uri": "https://localhost:8080/"
        },
        "id": "QSHtFtYIrnZq",
        "outputId": "ea9addc6-6b27-4728-c957-6c0319351cc3"
      },
      "execution_count": null,
      "outputs": [
        {
          "output_type": "stream",
          "name": "stdout",
          "text": [
            "Perkalian\n",
            "=====\n",
            "50\n"
          ]
        }
      ]
    },
    {
      "cell_type": "markdown",
      "source": [
        "###Pembagian"
      ],
      "metadata": {
        "id": "URgS8Gaer2nH"
      }
    },
    {
      "cell_type": "code",
      "source": [
        "x = 5\n",
        "y = 10\n",
        "print('Pembagian')\n",
        "print('='*5)\n",
        "print (x/y)"
      ],
      "metadata": {
        "colab": {
          "base_uri": "https://localhost:8080/"
        },
        "id": "VjERMgXUr5U2",
        "outputId": "e9518e10-3125-4e87-f938-6c650b6212c2"
      },
      "execution_count": null,
      "outputs": [
        {
          "output_type": "stream",
          "name": "stdout",
          "text": [
            "Pembagian\n",
            "=====\n",
            "0.5\n"
          ]
        }
      ]
    },
    {
      "cell_type": "markdown",
      "source": [
        "###Modulus"
      ],
      "metadata": {
        "id": "r20dWJs5sCTy"
      }
    },
    {
      "cell_type": "code",
      "source": [
        "x = 5\n",
        "y = 10\n",
        "print('Modulus')\n",
        "print('='*5)\n",
        "print (y%x)"
      ],
      "metadata": {
        "colab": {
          "base_uri": "https://localhost:8080/"
        },
        "id": "L8HbHmRUsGs6",
        "outputId": "63622af7-0a9e-4e76-aaea-2a7b0a9f1cd3"
      },
      "execution_count": null,
      "outputs": [
        {
          "output_type": "stream",
          "name": "stdout",
          "text": [
            "Modulus\n",
            "=====\n",
            "0\n"
          ]
        }
      ]
    },
    {
      "cell_type": "markdown",
      "source": [
        "###Perpangkatan"
      ],
      "metadata": {
        "id": "LqEOA94esn4m"
      }
    },
    {
      "cell_type": "code",
      "source": [
        "x = 5\n",
        "y = 2\n",
        "print('Perpangkatan')\n",
        "print('='*5)\n",
        "print (x**y)"
      ],
      "metadata": {
        "colab": {
          "base_uri": "https://localhost:8080/"
        },
        "id": "Cik--8-NstMu",
        "outputId": "7b275dcb-316d-446c-9ae5-d7c21a251185"
      },
      "execution_count": null,
      "outputs": [
        {
          "output_type": "stream",
          "name": "stdout",
          "text": [
            "Perpangkatan\n",
            "=====\n",
            "25\n"
          ]
        }
      ]
    },
    {
      "cell_type": "markdown",
      "source": [
        "###Pembagian dengan hasil pembulatan flooring"
      ],
      "metadata": {
        "id": "5YWT57PFs8yr"
      }
    },
    {
      "cell_type": "code",
      "source": [
        "x = 5\n",
        "y = 2\n",
        "print('Pembagian pembulatan flooring')\n",
        "print('='*5)\n",
        "print (x//y)"
      ],
      "metadata": {
        "colab": {
          "base_uri": "https://localhost:8080/"
        },
        "id": "tqPmGW9DtFAg",
        "outputId": "221904f1-66a7-4fec-b14a-fe608378d30a"
      },
      "execution_count": null,
      "outputs": [
        {
          "output_type": "stream",
          "name": "stdout",
          "text": [
            "Pembagian pembulatan flooring\n",
            "=====\n",
            "2\n"
          ]
        }
      ]
    }
  ]
}