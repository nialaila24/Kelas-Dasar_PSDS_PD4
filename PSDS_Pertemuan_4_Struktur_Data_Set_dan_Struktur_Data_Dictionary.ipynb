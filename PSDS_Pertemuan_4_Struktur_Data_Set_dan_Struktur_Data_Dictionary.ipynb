{
  "nbformat": 4,
  "nbformat_minor": 0,
  "metadata": {
    "colab": {
      "provenance": [],
      "authorship_tag": "ABX9TyN8px3Yk5JRq8iWt+wAVEzF",
      "include_colab_link": true
    },
    "kernelspec": {
      "name": "python3",
      "display_name": "Python 3"
    },
    "language_info": {
      "name": "python"
    }
  },
  "cells": [
    {
      "cell_type": "markdown",
      "metadata": {
        "id": "view-in-github",
        "colab_type": "text"
      },
      "source": [
        "<a href=\"https://colab.research.google.com/github/nialaila24/Kelas-Dasar_PSDS_PD4/blob/main/PSDS_Pertemuan_4_Struktur_Data_Set_dan_Struktur_Data_Dictionary.ipynb\" target=\"_parent\"><img src=\"https://colab.research.google.com/assets/colab-badge.svg\" alt=\"Open In Colab\"/></a>"
      ]
    },
    {
      "cell_type": "markdown",
      "source": [
        "NAMA : Nia Andriani Laila\n",
        "\n",
        "NIM : 2000015002\n",
        "\n",
        "KELAS DASAR"
      ],
      "metadata": {
        "id": "BO0mUdhnGB3X"
      }
    },
    {
      "cell_type": "markdown",
      "source": [
        "#Set"
      ],
      "metadata": {
        "id": "vGJCConUGV89"
      }
    },
    {
      "cell_type": "markdown",
      "source": [
        "Set adalah kumpulan item yang bersifat unik dan tanpa urutan (Unordered Collection). Didefinisikan dengan kurawal dan elemennya dipisahkan dengan koma. Pada set kita dapat melakukan union dan intersection, sekaligus otomatis melakukan penghapusan data duplikat."
      ],
      "metadata": {
        "id": "GacRj78hGcwr"
      }
    },
    {
      "cell_type": "code",
      "execution_count": null,
      "metadata": {
        "id": "oPuJQrD5FvKS"
      },
      "outputs": [],
      "source": [
        "#Contoh Set\n",
        "S1 = {1, \"dua\", True, 2+3j}\n",
        "\n",
        "print(type(S1))"
      ]
    },
    {
      "cell_type": "code",
      "source": [
        "#Sifat sifat Set\n",
        "#1. Tidak Terurut/Unordered\n",
        "print(\"Memanggil  Set S1 dengan indeks urutan:\", S1[0;3])"
      ],
      "metadata": {
        "id": "w6d5jnWxGi2C"
      },
      "execution_count": null,
      "outputs": []
    },
    {
      "cell_type": "code",
      "source": [
        "#2. Tidak bisa diganti /Immutablel\n",
        "S1[1] = 2\n",
        "print(\"Set S1 setelah diganti elemennya:\", S1)"
      ],
      "metadata": {
        "id": "TTcpTpknGs6P"
      },
      "execution_count": null,
      "outputs": []
    },
    {
      "cell_type": "code",
      "source": [
        "S1 = {1, \"dua\", True, 2+3J}\n",
        "\n",
        "#3. Dapat diindeks / Slicing\n",
        "print(\"Slicing Set S1:\", S1[3])"
      ],
      "metadata": {
        "id": "jZTbklreGwJi"
      },
      "execution_count": null,
      "outputs": []
    },
    {
      "cell_type": "code",
      "source": [
        "#4. Dapat diijinkan Duplikasi\n",
        "S1 = {1, \"dua\", True, True, 2+3j, 2+3j}\n",
        "print(\"Duplikasi pada Set S1:\", S1)"
      ],
      "metadata": {
        "id": "5Vr4Dv_GG2Ep"
      },
      "execution_count": null,
      "outputs": []
    },
    {
      "cell_type": "markdown",
      "source": [
        "##Latihan"
      ],
      "metadata": {
        "id": "poxQzKj7G3Kv"
      }
    },
    {
      "cell_type": "code",
      "source": [
        "#Buatlah struktur data setmu sendiri\n",
        "\n",
        "A1 = {3, \"empat\", True, 20+2j}\n",
        "print(type(A1))"
      ],
      "metadata": {
        "id": "uBlBKMuDG6U3"
      },
      "execution_count": null,
      "outputs": []
    },
    {
      "cell_type": "code",
      "source": [
        "#Sifat sifat Set\n",
        "#1. Tidak Terurut/Unordered\n",
        "print(\"Memanggil  Set A1 dengan indeks urutan:\", A1[0;4])"
      ],
      "metadata": {
        "id": "F_3x20vxG8gU"
      },
      "execution_count": null,
      "outputs": []
    },
    {
      "cell_type": "code",
      "source": [
        "#2. Tidak bisa diganti /Immutablel\n",
        "A1[1] = 13\n",
        "print(\"Set Set1 setelah diganti elemennya:\", A1)"
      ],
      "metadata": {
        "id": "Z-tjmD8eG_oJ"
      },
      "execution_count": null,
      "outputs": []
    },
    {
      "cell_type": "code",
      "source": [
        "A1 = {13, \"satu\", True, 2+1J}\n",
        "\n",
        "#3. Dapat diindeks / Slicing\n",
        "print(\"Slicing set A1:\", A1[3])"
      ],
      "metadata": {
        "id": "vAXkF2cUHBch"
      },
      "execution_count": null,
      "outputs": []
    },
    {
      "cell_type": "code",
      "source": [
        "#4. Dapat diijinkan Duplikasi\n",
        "A1 = {2, \"empat\", True, True, 3+3j, 3+3j}\n",
        "print(\"Duplikasi pada Set A1:\", A1)"
      ],
      "metadata": {
        "id": "XkvLfq9-HFc2"
      },
      "execution_count": null,
      "outputs": []
    },
    {
      "cell_type": "markdown",
      "source": [
        "#Dictionary"
      ],
      "metadata": {
        "id": "B3udz27_HG4b"
      }
    },
    {
      "cell_type": "markdown",
      "source": [
        "Dictionary pada phyton adalah kumpulan pasangan kunci-nilai (pair of key-value) yang bersifat tidak berurutan. Dictionary dapat digunakan untuk menyimpan data kecil hingga besar. Untuk mengakses datanya, kita harus mengetahui kuncinya (key). Pada Phyton, dictionary didefinisikan dengan kurawal dan tambahan definisi berikut :\n",
        "*   Setiap elemen pair key-value dipisahkan  denga koma(').\n",
        "*   Key dan Value dipisahkan dengan titik dua (:).\n",
        "*   Key dan Value dapat berupa tipe variabel/obyek apapun."
      ],
      "metadata": {
        "id": "AXm-F47tHO1l"
      }
    },
    {
      "cell_type": "code",
      "source": [
        "L1 = [1,'dua',True,(2+3j),(2+3j)]\n",
        "L1"
      ],
      "metadata": {
        "id": "SyzNML2yHV6h"
      },
      "execution_count": null,
      "outputs": []
    },
    {
      "cell_type": "code",
      "source": [
        "#Contoh Dictionary\n",
        "D1 = {1:'value','key':2}\n",
        "\n",
        "print (D1)"
      ],
      "metadata": {
        "id": "UqCKCnb5HaJa"
      },
      "execution_count": null,
      "outputs": []
    },
    {
      "cell_type": "markdown",
      "source": [
        "##Latihan"
      ],
      "metadata": {
        "id": "IQSClo5kHcr4"
      }
    },
    {
      "cell_type": "code",
      "source": [
        "#Buatlah Struktur data dictionary kalian sendiri\n",
        "A1 = {3:'nilai','kunci':4}\n",
        "\n",
        "print (A1)"
      ],
      "metadata": {
        "id": "4PUNXkeSHfMS"
      },
      "execution_count": null,
      "outputs": []
    },
    {
      "cell_type": "code",
      "source": [
        "L1[0]"
      ],
      "metadata": {
        "id": "tvWDYdYoHhcH"
      },
      "execution_count": null,
      "outputs": []
    },
    {
      "cell_type": "code",
      "source": [
        "D1['key']"
      ],
      "metadata": {
        "id": "CRHMV7A3HjHX"
      },
      "execution_count": null,
      "outputs": []
    },
    {
      "cell_type": "code",
      "source": [
        "#Memanggil elemen berdasarkan key\n",
        "print(\"D1['key'] = \", D1['key']);"
      ],
      "metadata": {
        "id": "lnhqmGAgHo82"
      },
      "execution_count": null,
      "outputs": []
    },
    {
      "cell_type": "markdown",
      "source": [
        "Dictionary bukan termasuk dalam elementasi urutan (sequence) sehingga bisa dipanggil dengan urutan indeks . Misalnya dalam conoth berikut dicoba dengan indeks 2, tetapi menghasilkan eror (Keyeror) karena tidak ada kunci (key)2:"
      ],
      "metadata": {
        "id": "VDSUKqEbHrQr"
      }
    },
    {
      "cell_type": "code",
      "source": [
        "#Nyobain error\n",
        "print(\"D1[2] = \", D1[2]);"
      ],
      "metadata": {
        "id": "GJOg-hsmHswU"
      },
      "execution_count": null,
      "outputs": []
    },
    {
      "cell_type": "markdown",
      "source": [
        "##Latihan"
      ],
      "metadata": {
        "id": "xlKnwVjoHvsO"
      }
    },
    {
      "cell_type": "code",
      "source": [
        "#Panggil salaah satu key dan value pada dictionary yang kalian buat\n",
        "print(\"A1['kunci'] = \", A1['kunci']);"
      ],
      "metadata": {
        "id": "6Ech5DI7Hx4S"
      },
      "execution_count": null,
      "outputs": []
    }
  ]
}